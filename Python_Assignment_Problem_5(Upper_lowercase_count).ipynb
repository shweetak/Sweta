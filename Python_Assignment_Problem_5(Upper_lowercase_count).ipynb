{
  "nbformat": 4,
  "nbformat_minor": 0,
  "metadata": {
    "colab": {
      "provenance": [],
      "authorship_tag": "ABX9TyMyDVPrrtI/FpQX4WbffOKR",
      "include_colab_link": true
    },
    "kernelspec": {
      "name": "python3",
      "display_name": "Python 3"
    },
    "language_info": {
      "name": "python"
    }
  },
  "cells": [
    {
      "cell_type": "markdown",
      "metadata": {
        "id": "view-in-github",
        "colab_type": "text"
      },
      "source": [
        "<a href=\"https://colab.research.google.com/github/shweetak/Sweta/blob/main/Python_Assignment_Problem_5(Upper_lowercase_count).ipynb\" target=\"_parent\"><img src=\"https://colab.research.google.com/assets/colab-badge.svg\" alt=\"Open In Colab\"/></a>"
      ]
    },
    {
      "cell_type": "code",
      "execution_count": 4,
      "metadata": {
        "colab": {
          "base_uri": "https://localhost:8080/"
        },
        "id": "d5WsYByU83zR",
        "outputId": "2a71ed64-a95c-4b8f-aaba-e60010b82460"
      },
      "outputs": [
        {
          "output_type": "stream",
          "name": "stdout",
          "text": [
            "Enter a string: HI Sweta\n",
            "No. of Upper case characters: 3\n",
            "No. of Lower case Characters: 4\n"
          ]
        }
      ],
      "source": [
        "def count(str):\n",
        "    upper_count = 0\n",
        "    lower_count = 0\n",
        "\n",
        "    for char in str:\n",
        "        if 'A' <= char <= 'Z':\n",
        "            upper_count += 1\n",
        "\n",
        "        elif 'a' <= char <= 'z':\n",
        "            lower_count += 1\n",
        "    return upper_count, lower_count\n",
        "\n",
        "user_input = input(\"Enter a string: \")\n",
        "\n",
        "uppercase, lowercase = count(user_input)\n",
        "print(\"No. of Upper case characters:\", uppercase)\n",
        "print(\"No. of Lower case Characters:\", lowercase)\n"
      ]
    },
    {
      "cell_type": "code",
      "source": [],
      "metadata": {
        "id": "SIbcSYdp8_6O"
      },
      "execution_count": null,
      "outputs": []
    }
  ]
}