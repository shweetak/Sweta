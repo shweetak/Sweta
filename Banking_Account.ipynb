{
  "nbformat": 4,
  "nbformat_minor": 0,
  "metadata": {
    "colab": {
      "provenance": [],
      "authorship_tag": "ABX9TyNAZtqCyryL2t0wIaZ0a2Na",
      "include_colab_link": true
    },
    "kernelspec": {
      "name": "python3",
      "display_name": "Python 3"
    },
    "language_info": {
      "name": "python"
    }
  },
  "cells": [
    {
      "cell_type": "markdown",
      "metadata": {
        "id": "view-in-github",
        "colab_type": "text"
      },
      "source": [
        "<a href=\"https://colab.research.google.com/github/shweetak/Sweta/blob/main/Banking_Account.ipynb\" target=\"_parent\"><img src=\"https://colab.research.google.com/assets/colab-badge.svg\" alt=\"Open In Colab\"/></a>"
      ]
    },
    {
      "cell_type": "code",
      "execution_count": 3,
      "metadata": {
        "colab": {
          "base_uri": "https://localhost:8080/"
        },
        "id": "vXEew1EGGF4m",
        "outputId": "58bc349d-cb91-4a2b-dc8f-3c78c240831d"
      },
      "outputs": [
        {
          "output_type": "stream",
          "name": "stdout",
          "text": [
            "Account Title: Ashish\n",
            "Account Balance: 5000\n",
            "Savings Account Title: Ashish\n",
            "Savings Account Balance: 5000\n",
            "Savings Account Interest Rate: 5\n"
          ]
        }
      ],
      "source": [
        "class Account:\n",
        "    def __init__(self, title=None, balance=0):\n",
        "        self.title = title\n",
        "        self.balance = balance\n",
        "\n",
        "class SavingsAccount(Account):\n",
        "    def __init__(self, title=None, balance=0, interestRate=0):\n",
        "        self.title = title\n",
        "        self.balance = balance\n",
        "        self.interestRate = interestRate\n",
        "\n",
        "obj = Account(\"Ashish\", 5000)\n",
        "obj1 = SavingsAccount(\"Ashish\", 5000, 5)\n",
        "print(\"Account Title:\", obj.title)\n",
        "print(\"Account Balance:\", obj.balance)\n",
        "print(\"Savings Account Title:\", obj1.title)\n",
        "print(\"Savings Account Balance:\", obj1.balance)\n",
        "print(\"Savings Account Interest Rate:\", obj1.interestRate)\n"
      ]
    },
    {
      "cell_type": "code",
      "source": [],
      "metadata": {
        "id": "5XN-7QEmJ3nK"
      },
      "execution_count": null,
      "outputs": []
    },
    {
      "cell_type": "code",
      "source": [],
      "metadata": {
        "id": "aP4pkQwNGGzL"
      },
      "execution_count": null,
      "outputs": []
    }
  ]
}