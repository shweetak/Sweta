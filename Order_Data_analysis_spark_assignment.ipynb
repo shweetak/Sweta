{
  "nbformat": 4,
  "nbformat_minor": 0,
  "metadata": {
    "colab": {
      "provenance": [],
      "authorship_tag": "ABX9TyN2SYC5k4XvPqdIM2QNIeKu",
      "include_colab_link": true
    },
    "kernelspec": {
      "name": "python3",
      "display_name": "Python 3"
    },
    "language_info": {
      "name": "python"
    }
  },
  "cells": [
    {
      "cell_type": "markdown",
      "metadata": {
        "id": "view-in-github",
        "colab_type": "text"
      },
      "source": [
        "<a href=\"https://colab.research.google.com/github/shweetak/Sweta/blob/main/Order_Data_analysis_spark_assignment.ipynb\" target=\"_parent\"><img src=\"https://colab.research.google.com/assets/colab-badge.svg\" alt=\"Open In Colab\"/></a>"
      ]
    },
    {
      "cell_type": "code",
      "execution_count": null,
      "metadata": {
        "id": "XldvY5EaA6RM"
      },
      "outputs": [],
      "source": [
        "#install Apache Spark 3.0.1 with Hadoop 2.7 from here.\n",
        "!wget https://archive.apache.org/dist/spark/spark-3.0.0/spark-3.0.0-bin-hadoop2.7.tgz\n",
        "\n",
        "# Now, we just need to unzip that folder.\n",
        "!tar -xvzf spark-3.0.0-bin-hadoop2.7.tgz\n",
        "!pip install findspark\n",
        "\n",
        "\n",
        "import os\n",
        "os.environ[\"SPARK_HOME\"] = \"/content/spark-3.0.0-bin-hadoop2.7\"\n",
        "import findspark\n",
        "findspark.init()\n"
      ]
    },
    {
      "cell_type": "code",
      "source": [
        "# 1. Problem Statement: What is the daily product revenue for CLOSED or COMPLETE orders\n",
        "\n",
        "from pyspark.sql import SparkSession\n",
        "from pyspark.sql.types import *\n",
        "from pyspark.sql.functions import *\n",
        "\n",
        "status_filter = df[\"_c3\"].isin([\"CLOSED\", \"COMPLETE\"])\n",
        "filtered_df = df.filter(status_filter)\n",
        "\n",
        "revenue_df = filtered_df.groupBy(date_format(\"_c1\", \"yyyy-MM-dd\").alias(\"date\")).agg(sum(\"_c2\").alias(\"daily_product_revenue\"))\n",
        "\n",
        "revenue_df.show(truncate=False)"
      ],
      "metadata": {
        "colab": {
          "base_uri": "https://localhost:8080/"
        },
        "id": "SaqWPEXzC7W0",
        "outputId": "2b066928-8279-4b7d-afc2-a0635467a2b9"
      },
      "execution_count": 10,
      "outputs": [
        {
          "output_type": "stream",
          "name": "stdout",
          "text": [
            "+----------+---------------------+\n",
            "|date      |daily_product_revenue|\n",
            "+----------+---------------------+\n",
            "|2014-02-16|757942.0             |\n",
            "|2014-02-22|365090.0             |\n",
            "|2014-05-27|240185.0             |\n",
            "|2014-07-14|453331.0             |\n",
            "|2013-08-20|535789.0             |\n",
            "|2013-12-28|662309.0             |\n",
            "|2013-11-08|450352.0             |\n",
            "|2014-03-17|259678.0             |\n",
            "|2014-03-20|517343.0             |\n",
            "|2013-09-27|815868.0             |\n",
            "|2014-07-24|536326.0             |\n",
            "|2014-02-08|445823.0             |\n",
            "|2014-05-23|445204.0             |\n",
            "|2013-11-05|799736.0             |\n",
            "|2013-10-05|552018.0             |\n",
            "|2013-10-29|312465.0             |\n",
            "|2014-05-01|379722.0             |\n",
            "|2014-06-02|582818.0             |\n",
            "|2014-04-02|616979.0             |\n",
            "|2014-07-11|334643.0             |\n",
            "+----------+---------------------+\n",
            "only showing top 20 rows\n",
            "\n"
          ]
        }
      ]
    },
    {
      "cell_type": "code",
      "source": [
        "#2. Load the required data in to DF like categories, customer,departments,order_items,orders and products\n",
        "\n",
        "from pyspark.sql import SparkSession\n",
        "from pyspark.sql.types import *\n",
        "spark = SparkSession.builder.master(\"local\").appName(\"Order_data_Analysis\").getOrCreate()\n",
        "\n",
        "categories = spark.read.csv(path = \"/categories\",header=False)\n",
        "customer = spark.read.csv(path = \"/customers\",header=False)\n",
        "departments = spark.read.csv(path = \"/departments\",header=False)\n",
        "order_items = spark.read.csv(path = \"/order_items\",header=False)\n",
        "orders = spark.read.csv(path = \"/orders\",header=False)\n",
        "products = spark.read.csv(path = \"/products\",header=False)\n",
        "categories.show(n=5)\n",
        "customer.show(n=5)\n",
        "departments.show(n=5)\n",
        "order_items.show(n=5)\n",
        "orders.show(n=5)\n",
        "products.show(n=5)\n",
        "\n"
      ],
      "metadata": {
        "colab": {
          "base_uri": "https://localhost:8080/"
        },
        "id": "FZpXodB1EyGZ",
        "outputId": "747e0c9e-4171-472e-f56c-6f9860c69a87"
      },
      "execution_count": 12,
      "outputs": [
        {
          "output_type": "stream",
          "name": "stdout",
          "text": [
            "+---+---+-------------------+\n",
            "|_c0|_c1|                _c2|\n",
            "+---+---+-------------------+\n",
            "|  1|  2|           Football|\n",
            "|  2|  2|             Soccer|\n",
            "|  3|  2|Baseball & Softball|\n",
            "|  4|  2|         Basketball|\n",
            "|  5|  2|           Lacrosse|\n",
            "+---+---+-------------------+\n",
            "only showing top 5 rows\n",
            "\n",
            "+---+-------+---------+---------+---------+--------------------+-----------+---+-----+\n",
            "|_c0|    _c1|      _c2|      _c3|      _c4|                 _c5|        _c6|_c7|  _c8|\n",
            "+---+-------+---------+---------+---------+--------------------+-----------+---+-----+\n",
            "|  1|Richard|Hernandez|XXXXXXXXX|XXXXXXXXX|  6303 Heather Plaza|Brownsville| TX|78521|\n",
            "|  2|   Mary|  Barrett|XXXXXXXXX|XXXXXXXXX|9526 Noble Embers...|  Littleton| CO|80126|\n",
            "|  3|    Ann|    Smith|XXXXXXXXX|XXXXXXXXX|3422 Blue Pioneer...|     Caguas| PR|00725|\n",
            "|  4|   Mary|    Jones|XXXXXXXXX|XXXXXXXXX|  8324 Little Common| San Marcos| CA|92069|\n",
            "|  5| Robert|   Hudson|XXXXXXXXX|XXXXXXXXX|10 Crystal River ...|     Caguas| PR|00725|\n",
            "+---+-------+---------+---------+---------+--------------------+-----------+---+-----+\n",
            "only showing top 5 rows\n",
            "\n",
            "+---+--------+\n",
            "|_c0|     _c1|\n",
            "+---+--------+\n",
            "|  2| Fitness|\n",
            "|  3|Footwear|\n",
            "|  4| Apparel|\n",
            "|  5|    Golf|\n",
            "|  6|Outdoors|\n",
            "+---+--------+\n",
            "only showing top 5 rows\n",
            "\n",
            "+---+---+----+---+------+------+\n",
            "|_c0|_c1| _c2|_c3|   _c4|   _c5|\n",
            "+---+---+----+---+------+------+\n",
            "|  1|  1| 957|  1|299.98|299.98|\n",
            "|  2|  2|1073|  1|199.99|199.99|\n",
            "|  3|  2| 502|  5| 250.0|  50.0|\n",
            "|  4|  2| 403|  1|129.99|129.99|\n",
            "|  5|  4| 897|  2| 49.98| 24.99|\n",
            "+---+---+----+---+------+------+\n",
            "only showing top 5 rows\n",
            "\n",
            "+---+--------------------+-----+---------------+\n",
            "|_c0|                 _c1|  _c2|            _c3|\n",
            "+---+--------------------+-----+---------------+\n",
            "|  1|2013-07-25 00:00:...|11599|         CLOSED|\n",
            "|  2|2013-07-25 00:00:...|  256|PENDING_PAYMENT|\n",
            "|  3|2013-07-25 00:00:...|12111|       COMPLETE|\n",
            "|  4|2013-07-25 00:00:...| 8827|         CLOSED|\n",
            "|  5|2013-07-25 00:00:...|11318|       COMPLETE|\n",
            "+---+--------------------+-----+---------------+\n",
            "only showing top 5 rows\n",
            "\n",
            "+---+---+--------------------+----+------+--------------------+\n",
            "|_c0|_c1|                 _c2| _c3|   _c4|                 _c5|\n",
            "+---+---+--------------------+----+------+--------------------+\n",
            "|  1|  2|Quest Q64 10 FT. ...|null| 59.98|http://images.acm...|\n",
            "|  2|  2|Under Armour Men'...|null|129.99|http://images.acm...|\n",
            "|  3|  2|Under Armour Men'...|null| 89.99|http://images.acm...|\n",
            "|  4|  2|Under Armour Men'...|null| 89.99|http://images.acm...|\n",
            "|  5|  2|Riddell Youth Rev...|null|199.99|http://images.acm...|\n",
            "+---+---+--------------------+----+------+--------------------+\n",
            "only showing top 5 rows\n",
            "\n"
          ]
        }
      ]
    },
    {
      "cell_type": "code",
      "source": [
        "# 3. Get the count for each order status\n",
        "\n",
        "order_status_count = (orders.groupBy(\"_c3\").agg(count(\"_c0\").alias(\"order_status_count\")).withColumnRenamed(\"_c3\", \"order_status\"))\n",
        "\n",
        "order_status_count.show(truncate=False)"
      ],
      "metadata": {
        "colab": {
          "base_uri": "https://localhost:8080/"
        },
        "id": "nszDtjnLHCkt",
        "outputId": "8b05d471-522d-4929-e1a6-043cfad36711"
      },
      "execution_count": 15,
      "outputs": [
        {
          "output_type": "stream",
          "name": "stdout",
          "text": [
            "+---------------+------------------+\n",
            "|order_status   |order_status_count|\n",
            "+---------------+------------------+\n",
            "|PENDING_PAYMENT|15030             |\n",
            "|COMPLETE       |22899             |\n",
            "|ON_HOLD        |3798              |\n",
            "|PAYMENT_REVIEW |729               |\n",
            "|PROCESSING     |8275              |\n",
            "|CLOSED         |7556              |\n",
            "|SUSPECTED_FRAUD|1558              |\n",
            "|PENDING        |7610              |\n",
            "|CANCELED       |1428              |\n",
            "+---------------+------------------+\n",
            "\n"
          ]
        }
      ]
    },
    {
      "cell_type": "code",
      "source": [
        "# 4. Filter only COMPLETE or CLOSED orders\n",
        "\n",
        "filtered_df = df.filter(df[\"_c3\"].isin([\"COMPLETE\", \"CLOSED\"]))\n",
        "filtered_df.show()"
      ],
      "metadata": {
        "colab": {
          "base_uri": "https://localhost:8080/"
        },
        "id": "GZ3hlvMYIG8O",
        "outputId": "9fe5d53e-d581-4245-e974-3ce0855b7c26"
      },
      "execution_count": 18,
      "outputs": [
        {
          "output_type": "stream",
          "name": "stdout",
          "text": [
            "+---+--------------------+-----+--------+\n",
            "|_c0|                 _c1|  _c2|     _c3|\n",
            "+---+--------------------+-----+--------+\n",
            "|  1|2013-07-25 00:00:...|11599|  CLOSED|\n",
            "|  3|2013-07-25 00:00:...|12111|COMPLETE|\n",
            "|  4|2013-07-25 00:00:...| 8827|  CLOSED|\n",
            "|  5|2013-07-25 00:00:...|11318|COMPLETE|\n",
            "|  6|2013-07-25 00:00:...| 7130|COMPLETE|\n",
            "|  7|2013-07-25 00:00:...| 4530|COMPLETE|\n",
            "| 12|2013-07-25 00:00:...| 1837|  CLOSED|\n",
            "| 15|2013-07-25 00:00:...| 2568|COMPLETE|\n",
            "| 17|2013-07-25 00:00:...| 2667|COMPLETE|\n",
            "| 18|2013-07-25 00:00:...| 1205|  CLOSED|\n",
            "| 22|2013-07-25 00:00:...|  333|COMPLETE|\n",
            "| 24|2013-07-25 00:00:...|11441|  CLOSED|\n",
            "| 25|2013-07-25 00:00:...| 9503|  CLOSED|\n",
            "| 26|2013-07-25 00:00:...| 7562|COMPLETE|\n",
            "| 28|2013-07-25 00:00:...|  656|COMPLETE|\n",
            "| 32|2013-07-25 00:00:...| 3960|COMPLETE|\n",
            "| 35|2013-07-25 00:00:...| 4840|COMPLETE|\n",
            "| 37|2013-07-25 00:00:...| 5863|  CLOSED|\n",
            "| 45|2013-07-25 00:00:...| 2636|COMPLETE|\n",
            "| 51|2013-07-25 00:00:...|12271|  CLOSED|\n",
            "+---+--------------------+-----+--------+\n",
            "only showing top 20 rows\n",
            "\n"
          ]
        }
      ]
    },
    {
      "cell_type": "code",
      "source": [
        "# 5. join the products , order_items and orders tables and calculate daily product revenue\n",
        "\n",
        "from pyspark.sql import SparkSession\n",
        "from pyspark.sql.functions import *\n",
        "from pyspark.sql.types import *\n",
        "\n",
        "spark = SparkSession.builder.master(\"local\").appName(\"DailyProductRevenue\").getOrCreate()\n",
        "\n",
        "joined_df = (order_items.alias(\"oi\").join(products.alias(\"p\"), col(\"oi._c2\") == col(\"p._c0\"), \"inner\").join(orders.alias(\"o\"), col(\"oi._c1\") == col(\"o._c0\"), \"inner\"))\n",
        "\n",
        "daily_product_revenue = (joined_df.withColumn(\"order_date\", to_date(\"o._c1\")).groupBy(\"order_date\", \"p._c4\") .agg(sum(\"oi._c4\").alias(\"daily_revenue\")).orderBy(\"order_date\"))\n",
        "daily_product_revenue.show(truncate=False)\n"
      ],
      "metadata": {
        "colab": {
          "base_uri": "https://localhost:8080/"
        },
        "id": "ldYTZqaBI_KB",
        "outputId": "d909f504-ec9b-4712-f860-469295f272f2"
      },
      "execution_count": 22,
      "outputs": [
        {
          "output_type": "stream",
          "name": "stdout",
          "text": [
            "+----------+------+------------------+\n",
            "|order_date|_c4   |daily_revenue     |\n",
            "+----------+------+------------------+\n",
            "|2013-07-25|149.99|299.98            |\n",
            "|2013-07-25|199.99|7399.629999999995 |\n",
            "|2013-07-25|599.99|599.99            |\n",
            "|2013-07-25|51.99 |207.96            |\n",
            "|2013-07-25|79.99 |559.93            |\n",
            "|2013-07-25|31.99 |543.8299999999999 |\n",
            "|2013-07-25|15.99 |159.9             |\n",
            "|2013-07-25|9.99  |19.98             |\n",
            "|2013-07-25|109.99|219.98            |\n",
            "|2013-07-25|50.0  |5100.0            |\n",
            "|2013-07-25|108.0 |216.0             |\n",
            "|2013-07-25|21.99 |21.99             |\n",
            "|2013-07-25|19.99 |79.96             |\n",
            "|2013-07-25|299.98|9599.359999999993 |\n",
            "|2013-07-25|99.0  |297.0             |\n",
            "|2013-07-25|99.99 |8499.149999999998 |\n",
            "|2013-07-25|129.99|5589.569999999994 |\n",
            "|2013-07-25|25.0  |100.0             |\n",
            "|2013-07-25|34.99 |69.98             |\n",
            "|2013-07-25|399.98|10799.459999999994|\n",
            "+----------+------+------------------+\n",
            "only showing top 20 rows\n",
            "\n"
          ]
        }
      ]
    },
    {
      "cell_type": "code",
      "source": [
        "# 6. Write the data in to the table Daily product revenue in Hive\n",
        "\n",
        "orders = \"daily_revenue_sweta.daily_product_revenue\"\n",
        "\n",
        "daily_product_revenue.write.mode(\"overwrite\").saveAsTable(orders)"
      ],
      "metadata": {
        "id": "DwrCO7BHMDrp"
      },
      "execution_count": null,
      "outputs": []
    }
  ]
}