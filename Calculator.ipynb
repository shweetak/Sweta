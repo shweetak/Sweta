{
  "nbformat": 4,
  "nbformat_minor": 0,
  "metadata": {
    "colab": {
      "provenance": [],
      "authorship_tag": "ABX9TyP9RXfuHZ8lfZVBZij3BKxR",
      "include_colab_link": true
    },
    "kernelspec": {
      "name": "python3",
      "display_name": "Python 3"
    },
    "language_info": {
      "name": "python"
    }
  },
  "cells": [
    {
      "cell_type": "markdown",
      "metadata": {
        "id": "view-in-github",
        "colab_type": "text"
      },
      "source": [
        "<a href=\"https://colab.research.google.com/github/shweetak/Sweta/blob/main/Calculator.ipynb\" target=\"_parent\"><img src=\"https://colab.research.google.com/assets/colab-badge.svg\" alt=\"Open In Colab\"/></a>"
      ]
    },
    {
      "cell_type": "code",
      "execution_count": 2,
      "metadata": {
        "colab": {
          "base_uri": "https://localhost:8080/"
        },
        "id": "StEEse0xBtmF",
        "outputId": "f88561e5-d1e1-4251-b14e-04992c946b0a"
      },
      "outputs": [
        {
          "output_type": "stream",
          "name": "stdout",
          "text": [
            "Enter the value of num1: 5\n",
            "Enter the value of num2: 6\n",
            "Addition: 11\n",
            "Subtraction: 1\n",
            "Multiplication: 30\n",
            "Division: 1.2\n"
          ]
        }
      ],
      "source": [
        "class Calculator:\n",
        "\n",
        "    def __init__(self, num1, num2):\n",
        "        self.num1 = num1\n",
        "        self.num2 = num2\n",
        "\n",
        "    def add(self):\n",
        "        return sum([self.num1, self.num2])\n",
        "\n",
        "    def subtract(self):\n",
        "        return self.num2 - self.num1\n",
        "\n",
        "    def multiply(self):\n",
        "        return self.num1 * self.num2\n",
        "\n",
        "    def divide(self):\n",
        "        if self.num1 != 0:\n",
        "            return self.num2 / self.num1\n",
        "        else:\n",
        "            return \"Cannot divide by zero\"\n",
        "\n",
        "num1_val = int(input(\"Enter the value of num1: \"))\n",
        "num2_val = int(input(\"Enter the value of num2: \"))\n",
        "\n",
        "obj = Calculator(num1_val, num2_val)\n",
        "\n",
        "print(\"Addition:\", obj.add())\n",
        "print(\"Subtraction:\", obj.subtract())\n",
        "print(\"Multiplication:\", obj.multiply())\n",
        "print(\"Division:\", obj.divide())\n"
      ]
    }
  ]
}