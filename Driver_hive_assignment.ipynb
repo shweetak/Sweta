{
  "nbformat": 4,
  "nbformat_minor": 0,
  "metadata": {
    "colab": {
      "provenance": [],
      "authorship_tag": "ABX9TyNemKzLZ+ilR3k4dPkZXxDN",
      "include_colab_link": true
    },
    "kernelspec": {
      "name": "python3",
      "display_name": "Python 3"
    },
    "language_info": {
      "name": "python"
    }
  },
  "cells": [
    {
      "cell_type": "markdown",
      "metadata": {
        "id": "view-in-github",
        "colab_type": "text"
      },
      "source": [
        "<a href=\"https://colab.research.google.com/github/shweetak/Sweta/blob/main/Driver_hive_assignment.ipynb\" target=\"_parent\"><img src=\"https://colab.research.google.com/assets/colab-badge.svg\" alt=\"Open In Colab\"/></a>"
      ]
    },
    {
      "cell_type": "code",
      "execution_count": null,
      "metadata": {
        "id": "D-6SpZEpG1gC"
      },
      "outputs": [],
      "source": [
        "# Query 1: How many total hours and miles logged by each driver?\n",
        "\n",
        "SELECT t.driverId,d.name,SUM(t.hours_logged) AS total_hours_logged,SUM(t.miles_logged) AS total_miles_logged FROM timesheet t JOIN drivers d ON t.driverId = d.driverId GROUP BY t.driverId, d.name;\n"
      ]
    },
    {
      "cell_type": "code",
      "source": [
        "# Query 2: Print the name of the driver in the above query\n",
        "\n",
        "SELECT driverId, name FROM drivers;"
      ],
      "metadata": {
        "id": "ouxAn6mGHDKK"
      },
      "execution_count": null,
      "outputs": []
    },
    {
      "cell_type": "code",
      "source": [
        "# Query 3: Write the above query output in to hdfs directory\n",
        "\n",
        "INSERT OVERWRITE DIRECTORY /user/hive/warehouse/\n",
        "SELECT t.driverId,d.name,SUM(t.hours_logged) AS total_hours_logged,SUM(t.miles_logged) AS total_miles_logged FROM timesheet t JOIN drivers d ON t.driverId = d.driverId GROUP BY t.driverId, d.name;"
      ],
      "metadata": {
        "id": "HRpsTsHXHP6J"
      },
      "execution_count": null,
      "outputs": []
    }
  ]
}