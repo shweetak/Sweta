{
  "nbformat": 4,
  "nbformat_minor": 0,
  "metadata": {
    "colab": {
      "provenance": [],
      "authorship_tag": "ABX9TyOH2oTto5CLz4MDQsz5JlJM",
      "include_colab_link": true
    },
    "kernelspec": {
      "name": "python3",
      "display_name": "Python 3"
    },
    "language_info": {
      "name": "python"
    }
  },
  "cells": [
    {
      "cell_type": "markdown",
      "metadata": {
        "id": "view-in-github",
        "colab_type": "text"
      },
      "source": [
        "<a href=\"https://colab.research.google.com/github/shweetak/Sweta/blob/main/Driver_hive_assignment.ipynb\" target=\"_parent\"><img src=\"https://colab.research.google.com/assets/colab-badge.svg\" alt=\"Open In Colab\"/></a>"
      ]
    },
    {
      "cell_type": "code",
      "execution_count": null,
      "metadata": {
        "id": "D-6SpZEpG1gC"
      },
      "outputs": [],
      "source": [
        "Create database driver_sweta;\n",
        "\n",
        "# Driver table\n",
        "\n",
        "CREATE EXTERNAL TABLE driver_sweta.drivers(\n",
        "driverId INT,\n",
        "name STRING,\n",
        "ssn BIGINT,\n",
        "location STRING,\n",
        "certified STRING,\n",
        "wage_plan STRING)\n",
        "ROW FORMAT DELIMITED FIELDS TERMINATED BY ','\n",
        "LINES TERMINATED BY '\\n'\n",
        "STORED As TextFile\n",
        "LOCATION '/user/mavricbdhnov0115/workspace'\n",
        "tblproperties(\n",
        "\"skip.header.line.count\"=\"1\"\n",
        ");\n",
        "\n",
        "# Timesheet Table\n",
        "\n",
        "CREATE EXTERNAL TABLE driver_sweta.timesheet(\n",
        "driverId INT,\n",
        "week INT,\n",
        "hours_logged INT,\n",
        "miles_logged INT)\n",
        "ROW FORMAT DELIMITED FIELDS TERMINATED BY ','\n",
        "LINES TERMINATED BY '\\n'\n",
        "STORED As TextFile\n",
        "LOCATION '/user/mavricbdhnov0115/workspace'\n",
        "tblproperties(\n",
        "\"skip.header.line.count\"=\"1\"\n",
        ");\n"
      ]
    },
    {
      "cell_type": "code",
      "source": [
        "# Query 1: How many total hours and miles logged by each driver?\n",
        "\n",
        "SELECT t.driverid, d.name, SUM(t.hours_logged) AS total_hours_logged, SUM(t.miles_logged) AS total_miles_logged FROM driver_sweta.timesheet t JOIN driver_sweta.drivers d ON t.driverid = d.driverid GROUP BY t.driverid,d.name;\n"
      ],
      "metadata": {
        "id": "OBvmPrMjgHte"
      },
      "execution_count": null,
      "outputs": []
    },
    {
      "cell_type": "code",
      "source": [
        "# Query 2: Print the name of the driver in the above query\n",
        "\n",
        "SELECT t.driverid, d.name, SUM(t.hours_logged) AS total_hours_logged, SUM(t.miles_logged) AS total_miles_logged FROM driver_sweta.timesheet t JOIN driver_sweta.drivers d ON t.driverid = d.driverid GROUP BY t.driverid,d.name;\n"
      ],
      "metadata": {
        "id": "ouxAn6mGHDKK"
      },
      "execution_count": null,
      "outputs": []
    },
    {
      "cell_type": "code",
      "source": [
        "# Query 3: Write the above query output in to hdfs directory\n",
        "\n",
        "INSERT OVERWRITE DIRECTORY  /user/mavricbdhnov0115/warehouse SELECT t.driverid, d.name, SUM(t.hours_logged) AS total_hours_logged, SUM(t.miles_logged) AS total_miles_logged FROM driver_sweta.timesheet t JOIN driver_sweta.drivers d ON t.driverid = d.driverid GROUP BY t.driverid,d.name;"
      ],
      "metadata": {
        "id": "HRpsTsHXHP6J"
      },
      "execution_count": null,
      "outputs": []
    }
  ]
}