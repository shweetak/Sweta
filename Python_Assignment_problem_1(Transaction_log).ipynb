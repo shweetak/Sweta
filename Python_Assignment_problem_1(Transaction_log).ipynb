{
  "nbformat": 4,
  "nbformat_minor": 0,
  "metadata": {
    "colab": {
      "provenance": [],
      "authorship_tag": "ABX9TyNr/WO/qZO0Hiia7+93ngxF",
      "include_colab_link": true
    },
    "kernelspec": {
      "name": "python3",
      "display_name": "Python 3"
    },
    "language_info": {
      "name": "python"
    }
  },
  "cells": [
    {
      "cell_type": "markdown",
      "metadata": {
        "id": "view-in-github",
        "colab_type": "text"
      },
      "source": [
        "<a href=\"https://colab.research.google.com/github/shweetak/Sweta/blob/main/Python_Assignment_problem_1(Transaction_log).ipynb\" target=\"_parent\"><img src=\"https://colab.research.google.com/assets/colab-badge.svg\" alt=\"Open In Colab\"/></a>"
      ]
    },
    {
      "cell_type": "code",
      "execution_count": null,
      "metadata": {
        "id": "Doeq7GRx1oLT"
      },
      "outputs": [],
      "source": [
        "def total_amount(transaction_log):\n",
        "    net_amount = 0\n",
        "    current_amount = \"\"\n",
        "    is_deposit = None\n",
        "\n",
        "    for char in transaction_log:\n",
        "        if '0' <= char <= '9':\n",
        "            current_amount += char\n",
        "        if char == 'D':\n",
        "            is_deposit = True\n",
        "        elif char == 'W':\n",
        "            is_deposit = False\n",
        "\n",
        "        if char == ' ':\n",
        "            if current_amount:\n",
        "                if is_deposit is not None:\n",
        "                    if is_deposit:\n",
        "                        net_amount += int(current_amount)\n",
        "                    else:\n",
        "                        net_amount -= int(current_amount)\n",
        "                current_amount = \"\"\n",
        "\n",
        "    if current_amount:\n",
        "        if is_deposit is not None:\n",
        "            if is_deposit:\n",
        "                net_amount += int(current_amount)\n",
        "            else:\n",
        "                net_amount -= int(current_amount)\n",
        "\n",
        "    return net_amount\n",
        "\n",
        "log_message = input(\"Enter the transaction log (e.g., D:100 W:10): \")\n",
        "\n",
        "res = total_amount(log_message)\n",
        "print(\"Net amount:\", res)\n"
      ]
    }
  ]
}