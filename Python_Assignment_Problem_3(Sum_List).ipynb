{
  "nbformat": 4,
  "nbformat_minor": 0,
  "metadata": {
    "colab": {
      "provenance": [],
      "authorship_tag": "ABX9TyOT2Y3k4N/nre9PuJqpGGwx",
      "include_colab_link": true
    },
    "kernelspec": {
      "name": "python3",
      "display_name": "Python 3"
    },
    "language_info": {
      "name": "python"
    }
  },
  "cells": [
    {
      "cell_type": "markdown",
      "metadata": {
        "id": "view-in-github",
        "colab_type": "text"
      },
      "source": [
        "<a href=\"https://colab.research.google.com/github/shweetak/Sweta/blob/main/Python_Assignment_Problem_3(Sum_List).ipynb\" target=\"_parent\"><img src=\"https://colab.research.google.com/assets/colab-badge.svg\" alt=\"Open In Colab\"/></a>"
      ]
    },
    {
      "cell_type": "code",
      "execution_count": 8,
      "metadata": {
        "colab": {
          "base_uri": "https://localhost:8080/"
        },
        "id": "Mp5fobFc5TYh",
        "outputId": "1f9266a3-b2c3-4aac-aab3-88838cf1c7ee"
      },
      "outputs": [
        {
          "output_type": "stream",
          "name": "stdout",
          "text": [
            "Enter a list of numbers: 1 2 3 \n",
            "Sum of numbers: 6\n"
          ]
        }
      ],
      "source": [
        "user_input = input(\"Enter a list of numbers: \")\n",
        "list = []\n",
        "start = 0\n",
        "\n",
        "for i in range(len(user_input)):\n",
        "    e = user_input[i]\n",
        "    if e == ' ':\n",
        "        if start < i:\n",
        "            list.append(int(user_input[start:i]))\n",
        "        start = i + 1\n",
        "if start < len(user_input):\n",
        "    list.append(int(user_input[start:]))\n",
        "def sum_list(numbers):\n",
        "    return sum(numbers)\n",
        "result = sum_list(list)\n",
        "print(\"Sum of numbers:\", result)\n"
      ]
    },
    {
      "cell_type": "code",
      "source": [],
      "metadata": {
        "id": "7KoSTtlj5UL9"
      },
      "execution_count": null,
      "outputs": []
    }
  ]
}