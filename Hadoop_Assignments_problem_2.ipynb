{
  "nbformat": 4,
  "nbformat_minor": 0,
  "metadata": {
    "colab": {
      "provenance": [],
      "authorship_tag": "ABX9TyO71MWzqHCvsVpH8cg0UxWz",
      "include_colab_link": true
    },
    "kernelspec": {
      "name": "python3",
      "display_name": "Python 3"
    },
    "language_info": {
      "name": "python"
    }
  },
  "cells": [
    {
      "cell_type": "markdown",
      "metadata": {
        "id": "view-in-github",
        "colab_type": "text"
      },
      "source": [
        "<a href=\"https://colab.research.google.com/github/shweetak/Sweta/blob/main/Hadoop_Assignments_problem_2.ipynb\" target=\"_parent\"><img src=\"https://colab.research.google.com/assets/colab-badge.svg\" alt=\"Open In Colab\"/></a>"
      ]
    },
    {
      "cell_type": "code",
      "execution_count": null,
      "metadata": {
        "id": "799vjxoelqn5"
      },
      "outputs": [],
      "source": [
        "1. Run MapReduce Program and capture the application Id of the job: yarn jar hadoop-mapreduce-examples-3.0.0-cdh6.2.1.jar wordcount /user/$USER/workspace/ /user/$USER/output_sweta/\n",
        "   Application id: application_1700812329856_1412"
      ]
    },
    {
      "cell_type": "code",
      "source": [
        "2. Re-run the MapReduce program and kill the application using the yarn command: yarn application -kill application_1700812329856_1412"
      ],
      "metadata": {
        "id": "FDxsoRhLlzIF"
      },
      "execution_count": null,
      "outputs": []
    },
    {
      "cell_type": "code",
      "source": [
        "3. List all the applications which are RUNNING state : yarn application -list -appStates RUNNING"
      ],
      "metadata": {
        "id": "P0ezHlYml2G9"
      },
      "execution_count": null,
      "outputs": []
    },
    {
      "cell_type": "code",
      "source": [
        "4. View the logs of any of the jobs which are already completed : yarn logs -applicationId application_1700812329856_1412"
      ],
      "metadata": {
        "id": "vOhcy5vll4hz"
      },
      "execution_count": null,
      "outputs": []
    }
  ]
}