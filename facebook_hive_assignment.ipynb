{
  "nbformat": 4,
  "nbformat_minor": 0,
  "metadata": {
    "colab": {
      "provenance": [],
      "authorship_tag": "ABX9TyOvvKDnkgetNV2z5DK57sWC",
      "include_colab_link": true
    },
    "kernelspec": {
      "name": "python3",
      "display_name": "Python 3"
    },
    "language_info": {
      "name": "python"
    }
  },
  "cells": [
    {
      "cell_type": "markdown",
      "metadata": {
        "id": "view-in-github",
        "colab_type": "text"
      },
      "source": [
        "<a href=\"https://colab.research.google.com/github/shweetak/Sweta/blob/main/facebook_hive_assignment.ipynb\" target=\"_parent\"><img src=\"https://colab.research.google.com/assets/colab-badge.svg\" alt=\"Open In Colab\"/></a>"
      ]
    },
    {
      "cell_type": "code",
      "execution_count": null,
      "metadata": {
        "id": "bEkQ75VJEItK"
      },
      "outputs": [],
      "source": [
        "# Q1. Find out the total no of users in the dataset\n",
        "\n",
        "SELECT COUNT(*) AS total_users FROM facebook;"
      ]
    },
    {
      "cell_type": "code",
      "source": [
        "# Q2: Find out the no of users above the age of 25\n",
        "\n",
        "SELECT COUNT(*) AS users_above_25 FROM facebook WHERE age > 25;"
      ],
      "metadata": {
        "id": "G49C5UM4EZ5E"
      },
      "execution_count": null,
      "outputs": []
    },
    {
      "cell_type": "code",
      "source": [
        "# Q3: Do male face book users tend to have more friends or female users\n",
        "\n",
        "SELECT gender, AVG(friend_count) AS avg_friend_count FROM facebook GROUP BY gender;"
      ],
      "metadata": {
        "id": "A2NoqEHPEkvG"
      },
      "execution_count": null,
      "outputs": []
    },
    {
      "cell_type": "code",
      "source": [
        "# Q4: How many likes do young people receive on facebook as opposed to old people\n",
        "\n",
        "SELECT CASE WHEN age <= 25 THEN 'Young' ELSE 'Old' END AS age_group, SUM(likes_received) AS total_likes_received FROM facebook GROUP BY CASE WHEN age <= 25 THEN 'Young' ELSE 'Old' END;"
      ],
      "metadata": {
        "id": "q-TFegvCEuVt"
      },
      "execution_count": null,
      "outputs": []
    },
    {
      "cell_type": "code",
      "source": [
        "# Q5: Find out the count of facebook users for each birthday month\n",
        "\n",
        "SELECT dob_month, COUNT(*) AS user_count FROM facebook GROUP BY dob_month;"
      ],
      "metadata": {
        "id": "LkpK5qF4E6Wu"
      },
      "execution_count": null,
      "outputs": []
    },
    {
      "cell_type": "code",
      "source": [
        "# Q6: Do young members use mobile phones or computers for facebook browsing\n",
        "\n",
        "SELECT CASE WHEN age <= 25 THEN 'Young' ELSE 'Old' END AS age_group, SUM(mobile_likes) AS mobile_likes, SUM(www_likes) AS computer_likes FROM facebook GROUP BY CASE WHEN age <= 25 THEN 'Young' ELSE 'Old' END;\n"
      ],
      "metadata": {
        "id": "ZHjAui4FFBOF"
      },
      "execution_count": null,
      "outputs": []
    },
    {
      "cell_type": "code",
      "source": [
        "# Q7: Do adult members use mobile phones or computers for facebook browsing\n",
        "\n",
        "SELECT CASE WHEN age > 25 THEN 'Adult' ELSE 'Young' END AS age_group,SUM(mobile_likes) AS mobile_likes,SUM(www_likes) AS computer_likes FROM facebook GROUP BY CASE WHEN age > 25 THEN 'Adult' ELSE 'Young' END;"
      ],
      "metadata": {
        "id": "aoZ-pK2HFNAm"
      },
      "execution_count": null,
      "outputs": []
    }
  ]
}