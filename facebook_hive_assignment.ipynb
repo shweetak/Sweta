{
  "nbformat": 4,
  "nbformat_minor": 0,
  "metadata": {
    "colab": {
      "provenance": [],
      "authorship_tag": "ABX9TyPLcW7VR7iJxDu89fyTD6H7",
      "include_colab_link": true
    },
    "kernelspec": {
      "name": "python3",
      "display_name": "Python 3"
    },
    "language_info": {
      "name": "python"
    }
  },
  "cells": [
    {
      "cell_type": "markdown",
      "metadata": {
        "id": "view-in-github",
        "colab_type": "text"
      },
      "source": [
        "<a href=\"https://colab.research.google.com/github/shweetak/Sweta/blob/main/facebook_hive_assignment.ipynb\" target=\"_parent\"><img src=\"https://colab.research.google.com/assets/colab-badge.svg\" alt=\"Open In Colab\"/></a>"
      ]
    },
    {
      "cell_type": "code",
      "execution_count": null,
      "metadata": {
        "id": "bEkQ75VJEItK"
      },
      "outputs": [],
      "source": [
        "# Q1. Find out the total no of users in the dataset\n",
        "\n",
        "SELECT COUNT(*) AS total_users FROM facebook;"
      ]
    },
    {
      "cell_type": "code",
      "source": [
        "# Q2: Find out the no of users above the age of 25\n",
        "\n",
        "SELECT COUNT(*) AS users_above_25 FROM facebook WHERE age > 25;"
      ],
      "metadata": {
        "id": "G49C5UM4EZ5E"
      },
      "execution_count": null,
      "outputs": []
    },
    {
      "cell_type": "code",
      "source": [
        "# Q3: Do male face book users tend to have more friends or female users\n",
        "\n",
        "SELECT gender, count(friend_count) as avg_friend_count from facebook_sweta.facebook group by gender;"
      ],
      "metadata": {
        "id": "A2NoqEHPEkvG"
      },
      "execution_count": null,
      "outputs": []
    },
    {
      "cell_type": "code",
      "source": [
        "# Q4: How many likes do young people receive on facebook as opposed to old people\n",
        "\n",
        "select if (age <= 25, 'Young', 'Old') as age_group,sum(likes_received) as total_likes_received from facebook group by if(age <= 25, 'Young', 'Old')"
      ],
      "metadata": {
        "id": "q-TFegvCEuVt"
      },
      "execution_count": null,
      "outputs": []
    },
    {
      "cell_type": "code",
      "source": [
        "# Q5: Find out the count of facebook users for each birthday month\n",
        "\n",
        "SELECT dob_month, COUNT(*) AS user_count FROM facebook GROUP BY dob_month;"
      ],
      "metadata": {
        "id": "LkpK5qF4E6Wu"
      },
      "execution_count": null,
      "outputs": []
    },
    {
      "cell_type": "code",
      "source": [
        "# Q6: Do young members use mobile phones or computers for facebook browsing\n",
        "\n",
        "select 'Young' as age_group,SUM(mobile_likes) as mobile_likes,SUM(www_likes) as computer_likes FROM facebook_sk_db.facebook where age <= 25 group by 'Young';\n"
      ],
      "metadata": {
        "id": "ZHjAui4FFBOF"
      },
      "execution_count": null,
      "outputs": []
    },
    {
      "cell_type": "code",
      "source": [
        "# Q7: Do adult members use mobile phones or computers for facebook browsing\n",
        "\n",
        "select 'Adult' as age_group,SUM(mobile_likes) as mobile_likes,SUM(www_likes) as computer_likes FROM facebook_sk_db.facebook where age <= 25 group by 'Adult';"
      ],
      "metadata": {
        "id": "aoZ-pK2HFNAm"
      },
      "execution_count": null,
      "outputs": []
    }
  ]
}