{
  "nbformat": 4,
  "nbformat_minor": 0,
  "metadata": {
    "colab": {
      "provenance": [],
      "authorship_tag": "ABX9TyPglP3zKMA4n7eraNcAG6lJ",
      "include_colab_link": true
    },
    "kernelspec": {
      "name": "python3",
      "display_name": "Python 3"
    },
    "language_info": {
      "name": "python"
    }
  },
  "cells": [
    {
      "cell_type": "markdown",
      "metadata": {
        "id": "view-in-github",
        "colab_type": "text"
      },
      "source": [
        "<a href=\"https://colab.research.google.com/github/shweetak/Sweta/blob/main/Crime_Data_Analysis_spark_assignment.ipynb\" target=\"_parent\"><img src=\"https://colab.research.google.com/assets/colab-badge.svg\" alt=\"Open In Colab\"/></a>"
      ]
    },
    {
      "cell_type": "code",
      "execution_count": null,
      "metadata": {
        "id": "lVmpJhk37ZSj"
      },
      "outputs": [],
      "source": [
        "#install Apache Spark 3.0.1 with Hadoop 2.7 from here.\n",
        "!wget https://archive.apache.org/dist/spark/spark-3.0.0/spark-3.0.0-bin-hadoop2.7.tgz\n",
        "\n",
        "# Now, we just need to unzip that folder.\n",
        "!tar -xvzf spark-3.0.0-bin-hadoop2.7.tgz\n",
        "!pip install findspark\n",
        "\n",
        "\n",
        "import os\n",
        "os.environ[\"SPARK_HOME\"] = \"/content/spark-3.0.0-bin-hadoop2.7\"\n",
        "import findspark\n",
        "findspark.init()\n"
      ]
    },
    {
      "cell_type": "code",
      "source": [
        "# 1. Load the covid 19 data in to a spark dataframe (country_wise_latest.csv) with the correct schema definition.\n",
        "\n",
        "from pyspark.sql import SparkSession\n",
        "from pyspark.sql.types import *\n",
        "spark = SparkSession.builder.master(\"local\").appName(\"Crime_Data_Analysis\").getOrCreate()\n",
        "\n",
        "df = spark.read.csv(path = \"/crime_incidents_2013.csv\",header=True)\n",
        "df.show()\n"
      ],
      "metadata": {
        "colab": {
          "base_uri": "https://localhost:8080/"
        },
        "id": "gCs37dZw7e5w",
        "outputId": "0aff9c06-576a-48d6-ccf6-cde7150b7279"
      },
      "execution_count": 3,
      "outputs": [
        {
          "output_type": "stream",
          "name": "stdout",
          "text": [
            "+--------+--------------------+--------+-----------+------+--------------------+--------------------+-----------------+-----------------+----+---+--------+---+-------------------+---------------------------+-----------+------------+---------------+--------------------+--------------------+\n",
            "|     CCN|      REPORTDATETIME|   SHIFT|    OFFENSE|METHOD|    LASTMODIFIEDDATE|    BLOCKSITEADDRESS|      BLOCKXCOORD|      BLOCKYCOORD|WARD|ANC|DISTRICT|PSA|NEIGHBORHOODCLUSTER|BUSINESSIMPROVEMENTDISTRICT|BLOCK_GROUP|CENSUS_TRACT|VOTING_PRECINCT|          START_DATE|            END_DATE|\n",
            "+--------+--------------------+--------+-----------+------+--------------------+--------------------+-----------------+-----------------+----+---+--------+---+-------------------+---------------------------+-----------+------------+---------------+--------------------+--------------------+\n",
            "|04104147|4/16/2013 12:00:0...|MIDNIGHT|   HOMICIDE| KNIFE|5/15/2015 8:33:04 AM|1500 - 1599 BLOCK...|           398943|           133729|   6| 6D|   FIRST|105|                  9|                       null|   006400 2|      006400|   Precinct 127|7/27/2004 8:30:00 PM|7/27/2004 8:30:00 PM|\n",
            "|05047867|6/5/2013 12:00:00 AM|MIDNIGHT|  SEX ABUSE| KNIFE|5/15/2015 8:32:11 AM|6500  - 6599 BLOC...|           397769|           144596|   4| 4B|  FOURTH|402|                 17|                       null|   001901 4|      001901|    Precinct 59|4/15/2005 12:30:0...|                null|\n",
            "|07083463|7/8/2013 12:00:00 AM|MIDNIGHT|  SEX ABUSE|OTHERS|5/15/2015 8:32:48 AM|1800 - 1810 BLOCK...|           396275|           139402|   1| 1C|   THIRD|303|                  1|               ADAMS MORGAN|   004002 1|      004002|    Precinct 25|7/14/2007 3:00:00 PM|                null|\n",
            "|09172197|4/8/2013 12:00:00 AM|MIDNIGHT|  SEX ABUSE|OTHERS|5/15/2015 8:32:54 AM|2322 - 2499 BLOCK...|           396518|           139335|   1| 1C|   THIRD|303|                  1|                       null|   003800 1|      003800|    Precinct 24|5/22/2009 1:00:00 PM|5/22/2009 3:00:00 AM|\n",
            "|09251354|2/27/2013 12:00:0...|MIDNIGHT|  SEX ABUSE|OTHERS|5/15/2015 8:32:21 AM|2500 - 2699 BLOCK...|           395232|           136881|   2| 2A|  SECOND|207|                  5|                       null|   005600 2|      005600|     Precinct 3| 1/1/2009 2:05:00 PM| 1/1/2009 3:00:00 PM|\n",
            "|10028985|2/27/2013 12:00:0...|MIDNIGHT|  SEX ABUSE|OTHERS|5/15/2015 8:33:01 AM|1800 - 2299 BLOCK...|        402158.31|        138824.53|   5| 5C|   FIFTH|505|                 22|                       null|   011100 3|      011100|    Precinct 72| 3/7/2010 2:30:00 AM| 3/7/2010 2:45:00 AM|\n",
            "|10033521|10/10/2013 12:00:...|MIDNIGHT|  SEX ABUSE|OTHERS|5/15/2015 8:32:21 AM|2800 - 2821 BLOCK...|           402837|           133810|   7| 7B|   SIXTH|607|                 34|                       null|   007604 3|      007604|   Precinct 111|12/29/2008 8:00:0...|12/29/2008 8:00:0...|\n",
            "|10124918|4/9/2013 12:00:00 AM|MIDNIGHT|  SEX ABUSE|OTHERS|5/15/2015 8:32:46 AM|1 - 99 BLOCK OF D...|           398794|           127300|   8| 8D| SEVENTH|708|               null|                       null|   010900 2|      010900|   Precinct 126|8/27/2010 5:00:00 PM|                null|\n",
            "|11010107|7/31/2013 12:00:0...|MIDNIGHT|   HOMICIDE|OTHERS|5/15/2015 8:32:12 AM|3000 - 3099 BLOCK...|           400331|           140004|   5| 5E|   FIFTH|502|                 21|                       null|   009201 1|      009201|    Precinct 74|1/23/2011 7:50:00 AM|                null|\n",
            "|11045512|1/31/2013 12:00:0...|MIDNIGHT|   HOMICIDE|   GUN|5/15/2015 8:33:01 AM|400 - 499 BLOCK O...|           404939|           135095|   7| 7F|   SIXTH|603|                 33|                       null|   007703 2|      007703|   Precinct 103|4/5/2011 10:30:00 PM|4/5/2011 10:32:00 PM|\n",
            "|11250281|7/8/2013 12:00:00 AM|MIDNIGHT|  SEX ABUSE|OTHERS|5/15/2015 8:32:54 AM|116 - 221 BLOCK O...|           405274|           136049|   7| 7D|   SIXTH|602|                 33|                       null|   007803 4|      007803|    Precinct 99|5/12/2011 11:00:0...|5/12/2011 11:15:0...|\n",
            "|12003591|1/9/2013 12:59:00 AM|MIDNIGHT|THEFT/OTHER|OTHERS|5/15/2015 8:32:48 AM|900 - 999 BLOCK O...|           400594|           139371|   5| 5C|   FIFTH|505|                 22|                       null|   009102 2|      009102|    Precinct 72|1/9/2013 12:59:00 AM|1/9/2013 12:59:00 AM|\n",
            "|12037530|3/23/2013 10:00:0...|     DAY|THEFT/OTHER|OTHERS|5/15/2015 8:32:33 AM|5300 - 5399 BLOCK...|           392607|           143559|   3| 3E|  SECOND|202|                 11|                       null|   001001 1|      001001|    Precinct 31|3/20/2013 6:50:00 PM|3/20/2013 9:00:00 PM|\n",
            "|12055744|8/19/2013 12:00:0...|MIDNIGHT|  SEX ABUSE|OTHERS|5/15/2015 8:32:58 AM|1400 - 1499 BLOCK...|           397088|           139298|   1| 1B|   THIRD|304|                  2|                       null|   003700 3|      003700|    Precinct 23|4/15/2012 1:00:00 AM|4/15/2012 3:00:00 AM|\n",
            "|12058169|5/13/2013 12:00:0...|MIDNIGHT|  SEX ABUSE|OTHERS|5/15/2015 8:32:56 AM|1900 - 1999 BLOCK...|        397921.52|        138712.81|   1| 1B|   THIRD|305|                  3|                       null|   004400 2|      004400|   Precinct 137|4/29/2012 2:20:00 AM|4/29/2012 2:20:00 AM|\n",
            "|12128314|9/10/2013 6:43:00 PM| EVENING|   BURGLARY|OTHERS|5/15/2015 8:33:01 AM|200 - 299 BLOCK O...|           398698|           138541|   1| 1B|   FIFTH|501|                 21|                       null|   003400 2|      003400|    Precinct 20|9/10/2013 6:43:00 PM|9/10/2013 6:43:00 PM|\n",
            "|12139462|11/13/2013 12:00:...|MIDNIGHT|  SEX ABUSE|OTHERS|5/15/2015 8:32:12 AM|1000 - 1199 BLOCK...|           398273|           134400|   6| 6D|   FIRST|105|                  9|                       null|   010200 2|      010200|   Precinct 142|9/30/2012 3:30:00 PM|10/1/2012 4:00:00 AM|\n",
            "|12174206|8/26/2013 12:00:0...|MIDNIGHT|  SEX ABUSE|OTHERS|5/15/2015 8:32:11 AM|2480 - 2599 BLOCK...|           396835|           139458|   1| 1C|   THIRD|303|                  1|                       null|   003800 1|      003800|    Precinct 24|10/14/2012 12:01:...|10/14/2012 2:00:0...|\n",
            "|12182426|1/1/2013 12:15:00 AM|MIDNIGHT|    ROBBERY|   GUN|5/15/2015 8:32:51 AM|4700 - 4899 BLOCK...|405689.0700192320|135331.4354830180|   7| 7E|   SIXTH|604|                 33|                       null|   009906 1|      009906|   Precinct 104|1/1/2013 12:15:00 AM|1/1/2013 12:15:00 AM|\n",
            "|12182429|1/1/2013 12:50:00 AM|MIDNIGHT|   BURGLARY|OTHERS|5/15/2015 8:32:12 AM|1200 - 1299 BLOCK...|           400930|           136784|   6| 6A|   FIRST|104|                 25|                       null|   008402 1|      008402|    Precinct 82|1/1/2013 12:30:00 AM|1/1/2013 12:45:00 AM|\n",
            "+--------+--------------------+--------+-----------+------+--------------------+--------------------+-----------------+-----------------+----+---+--------+---+-------------------+---------------------------+-----------+------------+---------------+--------------------+--------------------+\n",
            "only showing top 20 rows\n",
            "\n"
          ]
        }
      ]
    },
    {
      "cell_type": "code",
      "source": [
        "# 1. How many offenses were there in 2013?\n",
        "\n",
        "offenses_count_2013 = df.select(\"OFFENSE\").distinct().count()\n",
        "print(f\"Number of offenses in 2013: {offenses_count_2013}\")"
      ],
      "metadata": {
        "colab": {
          "base_uri": "https://localhost:8080/"
        },
        "id": "NdXuIagM81ge",
        "outputId": "b51fe680-283e-4048-ffe0-a8a9d775c3ad"
      },
      "execution_count": 4,
      "outputs": [
        {
          "output_type": "stream",
          "name": "stdout",
          "text": [
            "Number of offenses in 2013: 9\n"
          ]
        }
      ]
    },
    {
      "cell_type": "code",
      "source": [
        "# 2. How many crimes were committed in each offense\n",
        "\n",
        "crimes_per_offense = df.groupBy(\"OFFENSE\").count()\n",
        "print(\"Crimes committed in each offense:\")\n",
        "crimes_per_offense.show(truncate=False)"
      ],
      "metadata": {
        "colab": {
          "base_uri": "https://localhost:8080/"
        },
        "id": "-j3egj189sCa",
        "outputId": "b72c647f-bbf3-4ac2-ebc6-824648f21820"
      },
      "execution_count": 6,
      "outputs": [
        {
          "output_type": "stream",
          "name": "stdout",
          "text": [
            "Crimes committed in each offense:\n",
            "+--------------------------+-----+\n",
            "|OFFENSE                   |count|\n",
            "+--------------------------+-----+\n",
            "|ASSAULT W/DANGEROUS WEAPON|2311 |\n",
            "|THEFT F/AUTO              |10134|\n",
            "|ARSON                     |35   |\n",
            "|MOTOR VEHICLE THEFT       |2677 |\n",
            "|ROBBERY                   |4072 |\n",
            "|HOMICIDE                  |104  |\n",
            "|SEX ABUSE                 |299  |\n",
            "|THEFT/OTHER               |12894|\n",
            "|BURGLARY                  |3369 |\n",
            "+--------------------------+-----+\n",
            "\n"
          ]
        }
      ]
    },
    {
      "cell_type": "code",
      "source": [
        "# 3. How many different methods were used (And their count) in offense “Homicide\"\n",
        "\n",
        "homicide_methods_count = (df.filter(df[\"OFFENSE\"] == \"HOMICIDE\").groupBy(\"METHOD\").count())\n",
        "print(\"3. Different methods used in offense 'Homicide' and their count:\")\n",
        "homicide_methods_count.show(truncate=False)\n"
      ],
      "metadata": {
        "colab": {
          "base_uri": "https://localhost:8080/"
        },
        "id": "LLQpYFNU9_CA",
        "outputId": "77a5597f-bb55-444d-f13d-d107a1cfa85b"
      },
      "execution_count": 7,
      "outputs": [
        {
          "output_type": "stream",
          "name": "stdout",
          "text": [
            "3. Different methods used in offense 'Homicide' and their count:\n",
            "+------+-----+\n",
            "|METHOD|count|\n",
            "+------+-----+\n",
            "|OTHERS|12   |\n",
            "|KNIFE |11   |\n",
            "|GUN   |81   |\n",
            "+------+-----+\n",
            "\n"
          ]
        }
      ]
    },
    {
      "cell_type": "code",
      "source": [
        "# 4. Which shift had the maximum crimes?\n",
        "\n",
        "shift_max_crimes = (df.groupBy(\"SHIFT\").count().orderBy(\"count\", ascending=False).first())\n",
        "max_crimes_shift = shift_max_crimes[\"SHIFT\"]\n",
        "print(f\"Shift with the maximum crimes: {max_crimes_shift}\")\n"
      ],
      "metadata": {
        "colab": {
          "base_uri": "https://localhost:8080/"
        },
        "id": "28Kh5ZwW-Xy2",
        "outputId": "a3d88887-0d49-4081-f99c-311d11427a0c"
      },
      "execution_count": 9,
      "outputs": [
        {
          "output_type": "stream",
          "name": "stdout",
          "text": [
            "Shift with the maximum crimes: EVENING\n"
          ]
        }
      ]
    },
    {
      "cell_type": "code",
      "source": [],
      "metadata": {
        "id": "yvX92UUZ-8J2"
      },
      "execution_count": null,
      "outputs": []
    }
  ]
}