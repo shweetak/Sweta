{
  "nbformat": 4,
  "nbformat_minor": 0,
  "metadata": {
    "colab": {
      "provenance": [],
      "authorship_tag": "ABX9TyNsZCnYSb+1xVQwGqGvDGhh",
      "include_colab_link": true
    },
    "kernelspec": {
      "name": "python3",
      "display_name": "Python 3"
    },
    "language_info": {
      "name": "python"
    }
  },
  "cells": [
    {
      "cell_type": "markdown",
      "metadata": {
        "id": "view-in-github",
        "colab_type": "text"
      },
      "source": [
        "<a href=\"https://colab.research.google.com/github/shweetak/Sweta/blob/main/Square_Numbers_Sum.ipynb\" target=\"_parent\"><img src=\"https://colab.research.google.com/assets/colab-badge.svg\" alt=\"Open In Colab\"/></a>"
      ]
    },
    {
      "cell_type": "code",
      "execution_count": 3,
      "metadata": {
        "colab": {
          "base_uri": "https://localhost:8080/"
        },
        "id": "UuZeYZNR_Yvr",
        "outputId": "122f074e-202b-4b44-f30e-50e1870cacd2"
      },
      "outputs": [
        {
          "output_type": "stream",
          "name": "stdout",
          "text": [
            "Enter the value of x: 2\n",
            "Enter the value of y: 1\n",
            "Enter the value of z: 6\n",
            "Result: 41\n"
          ]
        }
      ],
      "source": [
        "class Point:\n",
        "    def __init__(self, x, y, z):\n",
        "        self.x = x\n",
        "        self.y = y\n",
        "        self.z = z\n",
        "\n",
        "    def sqSum(self):\n",
        "        return self.x**2 + self.y**2 + self.z**2\n",
        "\n",
        "x_val = int(input(\"Enter the value of x: \"))\n",
        "y_val = int(input(\"Enter the value of y: \"))\n",
        "z_val = int(input(\"Enter the value of z: \"))\n",
        "\n",
        "obj = Point(x_val, y_val, z_val)\n",
        "result = obj.sqSum()\n",
        "print(\"Result:\", int(result))\n"
      ]
    },
    {
      "cell_type": "code",
      "source": [],
      "metadata": {
        "id": "3zt2B8ZE_lu1"
      },
      "execution_count": null,
      "outputs": []
    }
  ]
}