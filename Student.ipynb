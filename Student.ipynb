{
  "nbformat": 4,
  "nbformat_minor": 0,
  "metadata": {
    "colab": {
      "provenance": [],
      "authorship_tag": "ABX9TyOImedtKDhqdJm2oRDC5/RQ",
      "include_colab_link": true
    },
    "kernelspec": {
      "name": "python3",
      "display_name": "Python 3"
    },
    "language_info": {
      "name": "python"
    }
  },
  "cells": [
    {
      "cell_type": "markdown",
      "metadata": {
        "id": "view-in-github",
        "colab_type": "text"
      },
      "source": [
        "<a href=\"https://colab.research.google.com/github/shweetak/Sweta/blob/main/Student.ipynb\" target=\"_parent\"><img src=\"https://colab.research.google.com/assets/colab-badge.svg\" alt=\"Open In Colab\"/></a>"
      ]
    },
    {
      "cell_type": "code",
      "execution_count": 2,
      "metadata": {
        "colab": {
          "base_uri": "https://localhost:8080/"
        },
        "id": "u6lG_-NSD9Jj",
        "outputId": "0edd7ceb-5209-4444-8b04-24d16746bab3"
      },
      "outputs": [
        {
          "output_type": "stream",
          "name": "stdout",
          "text": [
            "Enter the name: \n",
            "Enter the roll number: \n",
            "Name: \n",
            "Roll Number: \n"
          ]
        }
      ],
      "source": [
        "class Student:\n",
        "\n",
        "    def __init__(self):\n",
        "        self._name = None\n",
        "        self._rollNumber = None\n",
        "\n",
        "    def setName(self, name):\n",
        "        self._name = name\n",
        "\n",
        "    def getName(self):\n",
        "        return self._name\n",
        "\n",
        "    def setRollNumber(self, rollNumber):\n",
        "        self._rollNumber = rollNumber\n",
        "\n",
        "    def getRollNumber(self):\n",
        "        return self._rollNumber\n",
        "\n",
        "obj = Student()\n",
        "\n",
        "name_input = input(\"Enter the name: \")\n",
        "roll_number_input = input(\"Enter the roll number: \")\n",
        "\n",
        "obj.setName(name_input)\n",
        "obj.setRollNumber(roll_number_input)\n",
        "\n",
        "print(\"Name:\", obj.getName())\n",
        "print(\"Roll Number:\", obj.getRollNumber())\n"
      ]
    },
    {
      "cell_type": "code",
      "source": [],
      "metadata": {
        "id": "Azzl-7muEgGR"
      },
      "execution_count": null,
      "outputs": []
    },
    {
      "cell_type": "code",
      "source": [],
      "metadata": {
        "id": "vTAI1aQXD-RT"
      },
      "execution_count": null,
      "outputs": []
    }
  ]
}