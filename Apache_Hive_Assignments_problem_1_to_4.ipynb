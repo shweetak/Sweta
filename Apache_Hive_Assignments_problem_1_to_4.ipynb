{
  "nbformat": 4,
  "nbformat_minor": 0,
  "metadata": {
    "colab": {
      "provenance": [],
      "authorship_tag": "ABX9TyMmsinU72gI640iLh+kRw5G",
      "include_colab_link": true
    },
    "kernelspec": {
      "name": "python3",
      "display_name": "Python 3"
    },
    "language_info": {
      "name": "python"
    }
  },
  "cells": [
    {
      "cell_type": "markdown",
      "metadata": {
        "id": "view-in-github",
        "colab_type": "text"
      },
      "source": [
        "<a href=\"https://colab.research.google.com/github/shweetak/Sweta/blob/main/Apache_Hive_Assignments_problem_1_to_4.ipynb\" target=\"_parent\"><img src=\"https://colab.research.google.com/assets/colab-badge.svg\" alt=\"Open In Colab\"/></a>"
      ]
    },
    {
      "cell_type": "code",
      "execution_count": null,
      "metadata": {
        "id": "y8UQO2skqKNu"
      },
      "outputs": [],
      "source": [
        "1. SELECT id,tenure,designation,salary,\n",
        "    CASE\n",
        "        WHEN tenure < 2 THEN 20\n",
        "        WHEN tenure BETWEEN 2 AND 10 THEN 30\n",
        "        WHEN tenure > 10 THEN 40\n",
        "    END AS extra_vacation\n",
        "   FROM tenure_sweta;"
      ]
    },
    {
      "cell_type": "code",
      "source": [
        "2. SELECT Date,State,ARRAY_MAX(temperature) AS max_temperature FROM temperature;"
      ],
      "metadata": {
        "id": "mjY_9N7mqRf9"
      },
      "execution_count": null,
      "outputs": []
    },
    {
      "cell_type": "code",
      "source": [
        "3. Display NAME who have scored more than 90 in subject Maths subject: SELECT Name FROM student_marks WHERE Marks['maths'] > 90;\n",
        "   Display NAME and <Marks Scored in Physics subject> : SELECT Name, Marks['physics'] AS physics_marks FROM student_marks;\n",
        "   Display NAME, and <Maximum-Subject-Marks> : SELECT Name, GREATEST(Marks['physics'], Marks['chemistry'], Marks['maths'], Marks['biology']) AS max_subject_marks FROM student_marks;\n",
        "   Display NAME and <Average Marks Scored>: SELECT Name,(Marks['physics'] + Marks['chemistry'] + Marks['maths'] + Marks['biology']) / 4.0 AS average_marks\n",
        "FROM student_marks;\n",
        "   Display NAME and <Percentage of marks> : SELECT Name,(Marks['physics'] + Marks['chemistry'] + Marks['maths'] + Marks['biology']) / 4.0 * 100 AS percentage_marks FROM student_marks;"
      ],
      "metadata": {
        "id": "_XeWc_pyqVWz"
      },
      "execution_count": null,
      "outputs": []
    },
    {
      "cell_type": "code",
      "source": [
        "4. Display all “NAME” who is located in Banashankari : SELECT Name FROM student_info WHERE Address.Location = 'Banashankari';z\n",
        "   Calculate the total count who is staying in pin code 560001: SELECT COUNT(*) AS total_count FROM student_info WHERE Address.Pincode = 560001;\n"
      ],
      "metadata": {
        "id": "l2x1Z0MrqZsK"
      },
      "execution_count": null,
      "outputs": []
    }
  ]
}