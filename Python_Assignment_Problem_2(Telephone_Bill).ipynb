{
  "nbformat": 4,
  "nbformat_minor": 0,
  "metadata": {
    "colab": {
      "provenance": [],
      "authorship_tag": "ABX9TyOTDQAP5hNm+dmvSMZkxYhB",
      "include_colab_link": true
    },
    "kernelspec": {
      "name": "python3",
      "display_name": "Python 3"
    },
    "language_info": {
      "name": "python"
    }
  },
  "cells": [
    {
      "cell_type": "markdown",
      "metadata": {
        "id": "view-in-github",
        "colab_type": "text"
      },
      "source": [
        "<a href=\"https://colab.research.google.com/github/shweetak/Sweta/blob/main/Python_Assignment_Problem_2(Telephone_Bill).ipynb\" target=\"_parent\"><img src=\"https://colab.research.google.com/assets/colab-badge.svg\" alt=\"Open In Colab\"/></a>"
      ]
    },
    {
      "cell_type": "code",
      "execution_count": 1,
      "metadata": {
        "colab": {
          "base_uri": "https://localhost:8080/"
        },
        "id": "90ni5WYH3gWZ",
        "outputId": "4a0d11c3-9ea5-4ffa-9604-e36d1e68a657"
      },
      "outputs": [
        {
          "output_type": "stream",
          "name": "stdout",
          "text": [
            "Enter total no. of calls:205\n",
            "Monthly Bill: 257.0\n"
          ]
        }
      ],
      "source": [
        "total_calls = int(input(\"Enter total no. of calls:\"))\n",
        "if total_calls <= 100:\n",
        "  total_bill = 200\n",
        "elif 101 <= total_calls <=150:\n",
        "  total_bill = 200 + 0.60 * (total_calls-100)\n",
        "elif 151 <= total_calls <= 200:\n",
        "  total_bill = 200 + 0.60 * 50 + 0.50 *(total_calls -150)\n",
        "else:\n",
        "  total_bill = 200 + 0.60 * 50 + 0.50 * 50 + 0.40*(total_calls -200)\n",
        "\n",
        "print (f\"Monthly Bill: {total_bill}\")"
      ]
    },
    {
      "cell_type": "code",
      "source": [],
      "metadata": {
        "id": "vNBy7kJV355c"
      },
      "execution_count": null,
      "outputs": []
    }
  ]
}